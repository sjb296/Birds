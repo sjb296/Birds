{
 "cells": [
  {
   "cell_type": "code",
   "execution_count": 82,
   "metadata": {},
   "outputs": [],
   "source": [
    "import numpy as np\n",
    "import matplotlib.pyplot as plt\n",
    "import pandas as pd\n",
    "import seaborn as sns"
   ]
  },
  {
   "cell_type": "code",
   "execution_count": 83,
   "metadata": {},
   "outputs": [],
   "source": [
    "dists = pd.read_csv(\"data/atlas_open_data_files/distributions.csv\")\n",
    "dist_changes = pd.read_csv(\"data/atlas_open_data_files/distribution_changes.csv\")\n",
    "grid_coords = pd.read_csv(\"data/atlas_open_data_files/grid_square_coordinates_lookup.csv\")\n",
    "pct_bench_species = pd.read_csv(\"data/atlas_open_data_files/percent_benchmark_species_detected.csv\")\n",
    "species_lookup = pd.read_csv(\"data/atlas_open_data_files/species_lookup_nocase.csv\", encoding=\"ISO-8859-1\")\n",
    "conservation_status = pd.read_csv(\"data/conservation/conservation_status.csv\")"
   ]
  },
  {
   "cell_type": "markdown",
   "metadata": {},
   "source": [
    "#### Misc stuff"
   ]
  },
  {
   "cell_type": "code",
   "execution_count": 84,
   "metadata": {},
   "outputs": [
    {
     "data": {
      "text/plain": [
       "array(['1968-72', '2008-11', '2007/08-10/11', '1980/81-1982/83',\n",
       "       '1988-91'], dtype=object)"
      ]
     },
     "execution_count": 84,
     "metadata": {},
     "output_type": "execute_result"
    }
   ],
   "source": [
    "# The number of atlases in the dataset\n",
    "dists[\"period\"].unique()"
   ]
  },
  {
   "cell_type": "code",
   "execution_count": 85,
   "metadata": {},
   "outputs": [],
   "source": [
    "# These are the top 10 birds which were spotted most in the Big Garden \n",
    "# Birdwatch (2023) https://www.rspb.org.uk/whats-happening/big-garden-birdwatch\n",
    "HOUSE_SPARROW = 459\n",
    "BLUE_TIT = 436\n",
    "STARLING = 457\n",
    "WOODPIDGEON = 270\n",
    "BLACKBIRD = 371\n",
    "ROBIN = 345\n",
    "GOLDFINCH = 471\n",
    "GREAT_TIT = 437\n",
    "MAGPIE = 450\n",
    "LONG_TAILED_TIT = 431"
   ]
  },
  {
   "cell_type": "markdown",
   "metadata": {},
   "source": [
    "# Ideas\n",
    "- Regression of distribution changes of common garden birds?\n",
    "- Classifying birds that need special concern?\n",
    "- To what extent does the presence/movement of passerines affect the movement of birds of prey?\n",
    "    - Regression where y = bird of prey and x = passerine\n",
    "\n",
    "- **Feed data in to NN which predicts whether a bird will be on the latest Red List or not**"
   ]
  },
  {
   "cell_type": "markdown",
   "metadata": {},
   "source": [
    "# Predicting conservation status using citizen science bird atlases\n",
    "\n",
    "[Classifications are from the BTO birds of conservation concern](https://www.bto.org/our-science/publications/birds-conservation-concern)"
   ]
  },
  {
   "cell_type": "markdown",
   "metadata": {},
   "source": [
    "### Data preprocessing\n",
    "\n",
    "- Got atlas from Gillings et al.\n",
    "- Got conservation status from BTO\n",
    "- Only birds which have data in the atlas are included in study\n",
    "- Formatted conservation status with atlas species lookup codes in CSV\n",
    "- Corrected erroneous records where no species code was filled in caused by difference in bird names between lists\n",
    "- The Great Auk went extinct in the 19th century -- there's no data for it in the atlases!\n",
    "    - This record has been removed from the former breeding birds list"
   ]
  },
  {
   "cell_type": "code",
   "execution_count": 86,
   "metadata": {},
   "outputs": [
    {
     "data": {
      "text/html": [
       "<div>\n",
       "<style scoped>\n",
       "    .dataframe tbody tr th:only-of-type {\n",
       "        vertical-align: middle;\n",
       "    }\n",
       "\n",
       "    .dataframe tbody tr th {\n",
       "        vertical-align: top;\n",
       "    }\n",
       "\n",
       "    .dataframe thead th {\n",
       "        text-align: right;\n",
       "    }\n",
       "</style>\n",
       "<table border=\"1\" class=\"dataframe\">\n",
       "  <thead>\n",
       "    <tr style=\"text-align: right;\">\n",
       "      <th></th>\n",
       "      <th>speccode</th>\n",
       "      <th>english_name</th>\n",
       "      <th>status</th>\n",
       "    </tr>\n",
       "  </thead>\n",
       "  <tbody>\n",
       "  </tbody>\n",
       "</table>\n",
       "</div>"
      ],
      "text/plain": [
       "Empty DataFrame\n",
       "Columns: [speccode, english_name, status]\n",
       "Index: []"
      ]
     },
     "execution_count": 86,
     "metadata": {},
     "output_type": "execute_result"
    }
   ],
   "source": [
    "conservation_status[conservation_status[\"speccode\"].isna()]"
   ]
  },
  {
   "cell_type": "code",
   "execution_count": null,
   "metadata": {},
   "outputs": [],
   "source": []
  }
 ],
 "metadata": {
  "kernelspec": {
   "display_name": ".venv",
   "language": "python",
   "name": "python3"
  },
  "language_info": {
   "codemirror_mode": {
    "name": "ipython",
    "version": 3
   },
   "file_extension": ".py",
   "mimetype": "text/x-python",
   "name": "python",
   "nbconvert_exporter": "python",
   "pygments_lexer": "ipython3",
   "version": "3.10.12"
  }
 },
 "nbformat": 4,
 "nbformat_minor": 2
}
