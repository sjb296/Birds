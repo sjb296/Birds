{
 "cells": [
  {
   "cell_type": "code",
   "execution_count": 2,
   "metadata": {},
   "outputs": [],
   "source": [
    "import numpy as np\n",
    "import matplotlib.pyplot as plt\n",
    "import pandas as pd\n",
    "import seaborn as sns"
   ]
  },
  {
   "cell_type": "code",
   "execution_count": 3,
   "metadata": {},
   "outputs": [],
   "source": [
    "dists = pd.read_csv(\"data/atlas_open_data_files/distributions.csv\")\n",
    "dist_changes = pd.read_csv(\"data/atlas_open_data_files/distribution_changes.csv\")\n",
    "grid_coords = pd.read_csv(\"data/atlas_open_data_files/grid_square_coordinates_lookup.csv\")\n",
    "pct_bench_species = pd.read_csv(\"data/atlas_open_data_files/percent_benchmark_species_detected.csv\")\n",
    "species_lookup = pd.read_csv(\"data/atlas_open_data_files/species_lookup_nocase.csv\", encoding=\"ISO-8859-1\")\n",
    "conservation_status = pd.read_csv(\"data/conservation/conservation_status.csv\")"
   ]
  },
  {
   "cell_type": "markdown",
   "metadata": {},
   "source": [
    "#### Misc stuff"
   ]
  },
  {
   "cell_type": "code",
   "execution_count": 4,
   "metadata": {},
   "outputs": [
    {
     "data": {
      "text/plain": [
       "array(['1968-72', '2008-11', '2007/08-10/11', '1980/81-1982/83',\n",
       "       '1988-91'], dtype=object)"
      ]
     },
     "execution_count": 4,
     "metadata": {},
     "output_type": "execute_result"
    }
   ],
   "source": [
    "# The number of atlases in the dataset\n",
    "dists[\"period\"].unique()"
   ]
  },
  {
   "cell_type": "code",
   "execution_count": 5,
   "metadata": {},
   "outputs": [],
   "source": [
    "# These are the top 10 birds which were spotted most in the Big Garden \n",
    "# Birdwatch (2023) https://www.rspb.org.uk/whats-happening/big-garden-birdwatch\n",
    "HOUSE_SPARROW = 459\n",
    "BLUE_TIT = 436\n",
    "STARLING = 457\n",
    "WOODPIDGEON = 270\n",
    "BLACKBIRD = 371\n",
    "ROBIN = 345\n",
    "GOLDFINCH = 471\n",
    "GREAT_TIT = 437\n",
    "MAGPIE = 450\n",
    "LONG_TAILED_TIT = 431"
   ]
  },
  {
   "cell_type": "markdown",
   "metadata": {},
   "source": [
    "# Ideas\n",
    "- Regression of distribution changes of common garden birds?\n",
    "- Classifying birds that need special concern?\n",
    "- To what extent does the presence/movement of passerines affect the movement of birds of prey?\n",
    "    - Regression where y = bird of prey and x = passerine\n",
    "\n",
    "- **Feed data in to NN which predicts whether a bird will be on the latest Red List or not**"
   ]
  },
  {
   "cell_type": "markdown",
   "metadata": {},
   "source": [
    "# Predicting conservation status using citizen science bird atlases\n",
    "\n",
    "[Classifications are from the BTO birds of conservation concern](https://www.bto.org/our-science/publications/birds-conservation-concern)"
   ]
  },
  {
   "cell_type": "markdown",
   "metadata": {},
   "source": [
    "### Data preprocessing\n",
    "\n",
    "- Got atlas from Gillings et al.\n",
    "- Got conservation status from BTO\n",
    "- Only birds which have data in the atlas are included in study\n",
    "- Formatted conservation status with atlas species lookup codes in CSV\n",
    "- Corrected erroneous records where no species code was filled in caused by difference in bird names between lists\n",
    "- The Great Auk went extinct in the 19th century -- there's no data for it in the atlases!\n",
    "    - This record has been removed from the former breeding birds list\n",
    "- Removed species aggregates from lookup\n",
    "- Added latin names which serve as unique identifiers"
   ]
  },
  {
   "cell_type": "code",
   "execution_count": 6,
   "metadata": {},
   "outputs": [
    {
     "data": {
      "text/html": [
       "<div>\n",
       "<style scoped>\n",
       "    .dataframe tbody tr th:only-of-type {\n",
       "        vertical-align: middle;\n",
       "    }\n",
       "\n",
       "    .dataframe tbody tr th {\n",
       "        vertical-align: top;\n",
       "    }\n",
       "\n",
       "    .dataframe thead th {\n",
       "        text-align: right;\n",
       "    }\n",
       "</style>\n",
       "<table border=\"1\" class=\"dataframe\">\n",
       "  <thead>\n",
       "    <tr style=\"text-align: right;\">\n",
       "      <th></th>\n",
       "      <th>speccode</th>\n",
       "      <th>english_name</th>\n",
       "      <th>status</th>\n",
       "    </tr>\n",
       "  </thead>\n",
       "  <tbody>\n",
       "  </tbody>\n",
       "</table>\n",
       "</div>"
      ],
      "text/plain": [
       "Empty DataFrame\n",
       "Columns: [speccode, english_name, status]\n",
       "Index: []"
      ]
     },
     "execution_count": 6,
     "metadata": {},
     "output_type": "execute_result"
    }
   ],
   "source": [
    "conservation_status[conservation_status[\"speccode\"].isna()]"
   ]
  },
  {
   "cell_type": "code",
   "execution_count": 7,
   "metadata": {},
   "outputs": [
    {
     "data": {
      "text/html": [
       "<div>\n",
       "<style scoped>\n",
       "    .dataframe tbody tr th:only-of-type {\n",
       "        vertical-align: middle;\n",
       "    }\n",
       "\n",
       "    .dataframe tbody tr th {\n",
       "        vertical-align: top;\n",
       "    }\n",
       "\n",
       "    .dataframe thead th {\n",
       "        text-align: right;\n",
       "    }\n",
       "</style>\n",
       "<table border=\"1\" class=\"dataframe\">\n",
       "  <thead>\n",
       "    <tr style=\"text-align: right;\">\n",
       "      <th></th>\n",
       "      <th>speccode</th>\n",
       "      <th>english_name</th>\n",
       "    </tr>\n",
       "  </thead>\n",
       "  <tbody>\n",
       "    <tr>\n",
       "      <th>92</th>\n",
       "      <td>107</td>\n",
       "      <td>montagu’s harrier</td>\n",
       "    </tr>\n",
       "    <tr>\n",
       "      <th>113</th>\n",
       "      <td>23</td>\n",
       "      <td>leach's storm-petrel</td>\n",
       "    </tr>\n",
       "    <tr>\n",
       "      <th>168</th>\n",
       "      <td>49</td>\n",
       "      <td>bean goose</td>\n",
       "    </tr>\n",
       "    <tr>\n",
       "      <th>189</th>\n",
       "      <td>320</td>\n",
       "      <td>shorelark</td>\n",
       "    </tr>\n",
       "    <tr>\n",
       "      <th>212</th>\n",
       "      <td>410</td>\n",
       "      <td>common whitethroat</td>\n",
       "    </tr>\n",
       "    <tr>\n",
       "      <th>265</th>\n",
       "      <td>353</td>\n",
       "      <td>common redstart</td>\n",
       "    </tr>\n",
       "    <tr>\n",
       "      <th>290</th>\n",
       "      <td>22</td>\n",
       "      <td>european storm-petrel</td>\n",
       "    </tr>\n",
       "    <tr>\n",
       "      <th>295</th>\n",
       "      <td>12</td>\n",
       "      <td>northern fulmar</td>\n",
       "    </tr>\n",
       "  </tbody>\n",
       "</table>\n",
       "</div>"
      ],
      "text/plain": [
       "     speccode           english_name\n",
       "92        107      montagu’s harrier\n",
       "113        23   leach's storm-petrel\n",
       "168        49             bean goose\n",
       "189       320              shorelark\n",
       "212       410     common whitethroat\n",
       "265       353        common redstart\n",
       "290        22  european storm-petrel\n",
       "295        12        northern fulmar"
      ]
     },
     "execution_count": 7,
     "metadata": {},
     "output_type": "execute_result"
    }
   ],
   "source": [
    "# Stuff that's in the conservation list that's not in the atlas\n",
    "merged_df = pd.merge(conservation_status, species_lookup, on=['speccode', 'english_name'], how='outer', indicator=True)\n",
    "\n",
    "values_only_in_df1 = merged_df.loc[merged_df['_merge'] == 'left_only', ['speccode', 'english_name']]\n",
    "values_only_in_df1"
   ]
  },
  {
   "cell_type": "code",
   "execution_count": 34,
   "metadata": {},
   "outputs": [],
   "source": [
    "# Unify names - change conservation names to match atlas and take atlas names\n",
    "species_lookup[\"scientific_name\"]\n",
    "cons_prime = pd.merge(conservation_status, species_lookup, how=\"left\", on=\"speccode\", suffixes=[\"_cons\", \"_spec\"])\n",
    "cons_prime[[\"speccode\", \"english_name_spec\", \"scientific_name\", \"status\"]]\n",
    "cons_prime[[\"speccode\", \"english_name_spec\", \"scientific_name\", \"status\"]].to_csv(\"data/conservation/conservation_status_latin.csv\", index=False)"
   ]
  },
  {
   "cell_type": "code",
   "execution_count": null,
   "metadata": {},
   "outputs": [],
   "source": []
  }
 ],
 "metadata": {
  "kernelspec": {
   "display_name": ".venv",
   "language": "python",
   "name": "python3"
  },
  "language_info": {
   "codemirror_mode": {
    "name": "ipython",
    "version": 3
   },
   "file_extension": ".py",
   "mimetype": "text/x-python",
   "name": "python",
   "nbconvert_exporter": "python",
   "pygments_lexer": "ipython3",
   "version": "3.10.12"
  }
 },
 "nbformat": 4,
 "nbformat_minor": 2
}
