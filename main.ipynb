{
 "cells": [
  {
   "cell_type": "code",
   "execution_count": 1,
   "metadata": {},
   "outputs": [],
   "source": [
    "import numpy as np\n",
    "import matplotlib.pyplot as plt\n",
    "import pandas as pd\n",
    "import seaborn as sns"
   ]
  },
  {
   "cell_type": "code",
   "execution_count": 61,
   "metadata": {},
   "outputs": [],
   "source": [
    "dists = pd.read_csv(\"data/atlas_open_data_files/distributions.csv\")\n",
    "dist_changes = pd.read_csv(\"data/atlas_open_data_files/distribution_changes.csv\")\n",
    "grid_coords = pd.read_csv(\"data/atlas_open_data_files/grid_square_coordinates_lookup.csv\")\n",
    "pct_bench_species = pd.read_csv(\"data/atlas_open_data_files/percent_benchmark_species_detected.csv\")\n",
    "\n",
    "species_lookup = pd.read_csv(\"data/atlas_open_data_files/species_lookup_nocase.csv\", encoding=\"ISO-8859-1\")"
   ]
  },
  {
   "cell_type": "markdown",
   "metadata": {},
   "source": [
    "#### Misc stuff"
   ]
  },
  {
   "cell_type": "code",
   "execution_count": 33,
   "metadata": {},
   "outputs": [
    {
     "data": {
      "text/plain": [
       "array(['1968-72', '2008-11', '2007/08-10/11', '1980/81-1982/83',\n",
       "       '1988-91'], dtype=object)"
      ]
     },
     "execution_count": 33,
     "metadata": {},
     "output_type": "execute_result"
    }
   ],
   "source": [
    "# The number of atlases in the dataset\n",
    "dists[\"period\"].unique()"
   ]
  },
  {
   "cell_type": "code",
   "execution_count": 34,
   "metadata": {},
   "outputs": [],
   "source": [
    "# These are the top 10 birds which were spotted most in the Big Garden \n",
    "# Birdwatch (2023) https://www.rspb.org.uk/whats-happening/big-garden-birdwatch\n",
    "HOUSE_SPARROW = 459\n",
    "BLUE_TIT = 436\n",
    "STARLING = 457\n",
    "WOODPIDGEON = 270\n",
    "BLACKBIRD = 371\n",
    "ROBIN = 345\n",
    "GOLDFINCH = 471\n",
    "GREAT_TIT = 437\n",
    "MAGPIE = 450\n",
    "LONG_TAILED_TIT = 431"
   ]
  },
  {
   "cell_type": "markdown",
   "metadata": {},
   "source": [
    "# Ideas\n",
    "- Regression of distribution changes of common garden birds?\n",
    "- Classifying birds that need special concern?\n",
    "- To what extent does the presence/movement of passerines affect the movement of birds of prey?\n",
    "    - Regression where y = bird of prey and x = passerine\n",
    "\n",
    "- **Feed data in to NN which predicts whether a bird will be on the latest Red List or not**"
   ]
  },
  {
   "cell_type": "markdown",
   "metadata": {},
   "source": [
    "# Predicting conservation status using citizen science bird atlases"
   ]
  },
  {
   "cell_type": "code",
   "execution_count": 60,
   "metadata": {},
   "outputs": [
    {
     "data": {
      "text/html": [
       "<div>\n",
       "<style scoped>\n",
       "    .dataframe tbody tr th:only-of-type {\n",
       "        vertical-align: middle;\n",
       "    }\n",
       "\n",
       "    .dataframe tbody tr th {\n",
       "        vertical-align: top;\n",
       "    }\n",
       "\n",
       "    .dataframe thead th {\n",
       "        text-align: right;\n",
       "    }\n",
       "</style>\n",
       "<table border=\"1\" class=\"dataframe\">\n",
       "  <thead>\n",
       "    <tr style=\"text-align: right;\">\n",
       "      <th></th>\n",
       "      <th>english_name</th>\n",
       "      <th>prev_status</th>\n",
       "      <th>speccode</th>\n",
       "      <th>scientific_name</th>\n",
       "      <th>taxonomic_rank</th>\n",
       "    </tr>\n",
       "  </thead>\n",
       "  <tbody>\n",
       "    <tr>\n",
       "      <th>0</th>\n",
       "      <td>grey partridge</td>\n",
       "      <td>NaN</td>\n",
       "      <td>131.0</td>\n",
       "      <td>perdix perdix</td>\n",
       "      <td>species</td>\n",
       "    </tr>\n",
       "    <tr>\n",
       "      <th>1</th>\n",
       "      <td>lapwing</td>\n",
       "      <td>NaN</td>\n",
       "      <td>171.0</td>\n",
       "      <td>vanellus vanellus</td>\n",
       "      <td>species</td>\n",
       "    </tr>\n",
       "    <tr>\n",
       "      <th>2</th>\n",
       "      <td>grasshopper warbler</td>\n",
       "      <td>NaN</td>\n",
       "      <td>384.0</td>\n",
       "      <td>locustella naevia</td>\n",
       "      <td>species</td>\n",
       "    </tr>\n",
       "    <tr>\n",
       "      <th>3</th>\n",
       "      <td>ptarmigan</td>\n",
       "      <td>g</td>\n",
       "      <td>126.0</td>\n",
       "      <td>lagopus muta</td>\n",
       "      <td>species</td>\n",
       "    </tr>\n",
       "    <tr>\n",
       "      <th>4</th>\n",
       "      <td>whimbrel</td>\n",
       "      <td>NaN</td>\n",
       "      <td>202.0</td>\n",
       "      <td>numenius phaeopus</td>\n",
       "      <td>species</td>\n",
       "    </tr>\n",
       "    <tr>\n",
       "      <th>...</th>\n",
       "      <td>...</td>\n",
       "      <td>...</td>\n",
       "      <td>...</td>\n",
       "      <td>...</td>\n",
       "      <td>...</td>\n",
       "    </tr>\n",
       "    <tr>\n",
       "      <th>65</th>\n",
       "      <td>yellowhammer</td>\n",
       "      <td>NaN</td>\n",
       "      <td>514.0</td>\n",
       "      <td>emberiza citrinella</td>\n",
       "      <td>species</td>\n",
       "    </tr>\n",
       "    <tr>\n",
       "      <th>66</th>\n",
       "      <td>dotterel</td>\n",
       "      <td>NaN</td>\n",
       "      <td>166.0</td>\n",
       "      <td>charadrius morinellus</td>\n",
       "      <td>species</td>\n",
       "    </tr>\n",
       "    <tr>\n",
       "      <th>67</th>\n",
       "      <td>marsh warbler</td>\n",
       "      <td>NaN</td>\n",
       "      <td>392.0</td>\n",
       "      <td>acrocephalus palustris</td>\n",
       "      <td>species</td>\n",
       "    </tr>\n",
       "    <tr>\n",
       "      <th>68</th>\n",
       "      <td>ringed plover</td>\n",
       "      <td>NaN</td>\n",
       "      <td>160.0</td>\n",
       "      <td>charadrius hiaticula</td>\n",
       "      <td>species</td>\n",
       "    </tr>\n",
       "    <tr>\n",
       "      <th>69</th>\n",
       "      <td>savi's warbler</td>\n",
       "      <td>NaN</td>\n",
       "      <td>386.0</td>\n",
       "      <td>locustella luscinioides</td>\n",
       "      <td>species</td>\n",
       "    </tr>\n",
       "  </tbody>\n",
       "</table>\n",
       "<p>70 rows × 5 columns</p>\n",
       "</div>"
      ],
      "text/plain": [
       "           english_name prev_status  speccode          scientific_name  \\\n",
       "0        grey partridge         NaN     131.0            perdix perdix   \n",
       "1               lapwing         NaN     171.0        vanellus vanellus   \n",
       "2   grasshopper warbler         NaN     384.0        locustella naevia   \n",
       "3             ptarmigan           g     126.0             lagopus muta   \n",
       "4              whimbrel         NaN     202.0        numenius phaeopus   \n",
       "..                  ...         ...       ...                      ...   \n",
       "65         yellowhammer         NaN     514.0      emberiza citrinella   \n",
       "66             dotterel         NaN     166.0    charadrius morinellus   \n",
       "67        marsh warbler         NaN     392.0   acrocephalus palustris   \n",
       "68        ringed plover         NaN     160.0     charadrius hiaticula   \n",
       "69       savi's warbler         NaN     386.0  locustella luscinioides   \n",
       "\n",
       "   taxonomic_rank  \n",
       "0         species  \n",
       "1         species  \n",
       "2         species  \n",
       "3         species  \n",
       "4         species  \n",
       "..            ...  \n",
       "65        species  \n",
       "66        species  \n",
       "67        species  \n",
       "68        species  \n",
       "69        species  \n",
       "\n",
       "[70 rows x 5 columns]"
      ]
     },
     "execution_count": 60,
     "metadata": {},
     "output_type": "execute_result"
    }
   ],
   "source": [
    "# Add species code to redlist.csv by looking up the name in species lookup\n",
    "redlist = pd.read_csv(\"data/redlist.csv\")\n",
    "redlist = redlist.apply(lambda x: x.str.lower() if x.dtype == \"object\" else x)\n",
    "redlist_ids = pd.merge(redlist, species_lookup, on=\"english_name\", how=\"left\")\n",
    "redlist_ids"
   ]
  },
  {
   "cell_type": "code",
   "execution_count": null,
   "metadata": {},
   "outputs": [],
   "source": []
  }
 ],
 "metadata": {
  "kernelspec": {
   "display_name": ".venv",
   "language": "python",
   "name": "python3"
  },
  "language_info": {
   "codemirror_mode": {
    "name": "ipython",
    "version": 3
   },
   "file_extension": ".py",
   "mimetype": "text/x-python",
   "name": "python",
   "nbconvert_exporter": "python",
   "pygments_lexer": "ipython3",
   "version": "3.10.12"
  }
 },
 "nbformat": 4,
 "nbformat_minor": 2
}
