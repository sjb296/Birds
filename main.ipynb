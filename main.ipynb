{
 "cells": [
  {
   "cell_type": "code",
   "execution_count": 2,
   "metadata": {},
   "outputs": [],
   "source": [
    "import numpy as np\n",
    "import matplotlib.pyplot as plt\n",
    "import pandas as pd\n",
    "import seaborn as sns"
   ]
  },
  {
   "cell_type": "code",
   "execution_count": 3,
   "metadata": {},
   "outputs": [],
   "source": [
    "dists = pd.read_csv(\"data/atlas_open_data_files/distributions.csv\")\n",
    "dist_changes = pd.read_csv(\"data/atlas_open_data_files/distribution_changes.csv\")\n",
    "grid_coords = pd.read_csv(\"data/atlas_open_data_files/grid_square_coordinates_lookup.csv\")\n",
    "pct_bench_species = pd.read_csv(\"data/atlas_open_data_files/percent_benchmark_species_detected.csv\")\n",
    "species_lookup = pd.read_csv(\"data/atlas_open_data_files/species_lookup_nocase.csv\", encoding=\"ISO-8859-1\")\n",
    "conservation_status = pd.read_csv(\"data/conservation/conservation_status.csv\")"
   ]
  },
  {
   "cell_type": "markdown",
   "metadata": {},
   "source": [
    "#### Misc stuff"
   ]
  },
  {
   "cell_type": "code",
   "execution_count": 4,
   "metadata": {},
   "outputs": [
    {
     "data": {
      "text/plain": [
       "array(['1968-72', '2008-11', '2007/08-10/11', '1980/81-1982/83',\n",
       "       '1988-91'], dtype=object)"
      ]
     },
     "execution_count": 4,
     "metadata": {},
     "output_type": "execute_result"
    }
   ],
   "source": [
    "# The number of atlases in the dataset\n",
    "dists[\"period\"].unique()"
   ]
  },
  {
   "cell_type": "code",
   "execution_count": 5,
   "metadata": {},
   "outputs": [],
   "source": [
    "# These are the top 10 birds which were spotted most in the Big Garden \n",
    "# Birdwatch (2023) https://www.rspb.org.uk/whats-happening/big-garden-birdwatch\n",
    "HOUSE_SPARROW = 459\n",
    "BLUE_TIT = 436\n",
    "STARLING = 457\n",
    "WOODPIDGEON = 270\n",
    "BLACKBIRD = 371\n",
    "ROBIN = 345\n",
    "GOLDFINCH = 471\n",
    "GREAT_TIT = 437\n",
    "MAGPIE = 450\n",
    "LONG_TAILED_TIT = 431"
   ]
  },
  {
   "cell_type": "markdown",
   "metadata": {},
   "source": [
    "# Ideas\n",
    "- Regression of distribution changes of common garden birds?\n",
    "- Classifying birds that need special concern?\n",
    "- To what extent does the presence/movement of passerines affect the movement of birds of prey?\n",
    "    - Regression where y = bird of prey and x = passerine\n",
    "\n",
    "- **Feed data in to NN which predicts whether a bird will be on the latest Red List or not**"
   ]
  },
  {
   "cell_type": "markdown",
   "metadata": {},
   "source": [
    "# Predicting conservation status using citizen science bird atlases\n",
    "\n",
    "[Classifications are from the BTO birds of conservation concern](https://www.bto.org/our-science/publications/birds-conservation-concern)"
   ]
  },
  {
   "cell_type": "markdown",
   "metadata": {},
   "source": [
    "### Data preprocessing\n",
    "\n",
    "- Got atlas from Gillings et al.\n",
    "- Got conservation status from BTO\n",
    "- Only birds which have data in the atlas are included in study\n",
    "- Formatted conservation status with atlas species lookup codes in CSV\n",
    "- Corrected erroneous records where no species code was filled in caused by difference in bird names between lists\n",
    "- The Great Auk went extinct in the 19th century -- there's no data for it in the atlases!\n",
    "    - This record has been removed from the former breeding birds list\n",
    "- Removed species aggregates from lookup"
   ]
  },
  {
   "cell_type": "code",
   "execution_count": 6,
   "metadata": {},
   "outputs": [
    {
     "data": {
      "text/html": [
       "<div>\n",
       "<style scoped>\n",
       "    .dataframe tbody tr th:only-of-type {\n",
       "        vertical-align: middle;\n",
       "    }\n",
       "\n",
       "    .dataframe tbody tr th {\n",
       "        vertical-align: top;\n",
       "    }\n",
       "\n",
       "    .dataframe thead th {\n",
       "        text-align: right;\n",
       "    }\n",
       "</style>\n",
       "<table border=\"1\" class=\"dataframe\">\n",
       "  <thead>\n",
       "    <tr style=\"text-align: right;\">\n",
       "      <th></th>\n",
       "      <th>speccode</th>\n",
       "      <th>english_name</th>\n",
       "      <th>status</th>\n",
       "    </tr>\n",
       "  </thead>\n",
       "  <tbody>\n",
       "  </tbody>\n",
       "</table>\n",
       "</div>"
      ],
      "text/plain": [
       "Empty DataFrame\n",
       "Columns: [speccode, english_name, status]\n",
       "Index: []"
      ]
     },
     "execution_count": 6,
     "metadata": {},
     "output_type": "execute_result"
    }
   ],
   "source": [
    "conservation_status[conservation_status[\"speccode\"].isna()]"
   ]
  },
  {
   "cell_type": "code",
   "execution_count": 7,
   "metadata": {},
   "outputs": [
    {
     "data": {
      "text/html": [
       "<div>\n",
       "<style scoped>\n",
       "    .dataframe tbody tr th:only-of-type {\n",
       "        vertical-align: middle;\n",
       "    }\n",
       "\n",
       "    .dataframe tbody tr th {\n",
       "        vertical-align: top;\n",
       "    }\n",
       "\n",
       "    .dataframe thead th {\n",
       "        text-align: right;\n",
       "    }\n",
       "</style>\n",
       "<table border=\"1\" class=\"dataframe\">\n",
       "  <thead>\n",
       "    <tr style=\"text-align: right;\">\n",
       "      <th></th>\n",
       "      <th>speccode</th>\n",
       "      <th>english_name</th>\n",
       "    </tr>\n",
       "  </thead>\n",
       "  <tbody>\n",
       "    <tr>\n",
       "      <th>92</th>\n",
       "      <td>107</td>\n",
       "      <td>montagu’s harrier</td>\n",
       "    </tr>\n",
       "    <tr>\n",
       "      <th>113</th>\n",
       "      <td>23</td>\n",
       "      <td>leach's storm-petrel</td>\n",
       "    </tr>\n",
       "    <tr>\n",
       "      <th>168</th>\n",
       "      <td>49</td>\n",
       "      <td>bean goose</td>\n",
       "    </tr>\n",
       "    <tr>\n",
       "      <th>189</th>\n",
       "      <td>320</td>\n",
       "      <td>shorelark</td>\n",
       "    </tr>\n",
       "    <tr>\n",
       "      <th>212</th>\n",
       "      <td>410</td>\n",
       "      <td>common whitethroat</td>\n",
       "    </tr>\n",
       "    <tr>\n",
       "      <th>265</th>\n",
       "      <td>353</td>\n",
       "      <td>common redstart</td>\n",
       "    </tr>\n",
       "    <tr>\n",
       "      <th>290</th>\n",
       "      <td>22</td>\n",
       "      <td>european storm-petrel</td>\n",
       "    </tr>\n",
       "    <tr>\n",
       "      <th>295</th>\n",
       "      <td>12</td>\n",
       "      <td>northern fulmar</td>\n",
       "    </tr>\n",
       "  </tbody>\n",
       "</table>\n",
       "</div>"
      ],
      "text/plain": [
       "     speccode           english_name\n",
       "92        107      montagu’s harrier\n",
       "113        23   leach's storm-petrel\n",
       "168        49             bean goose\n",
       "189       320              shorelark\n",
       "212       410     common whitethroat\n",
       "265       353        common redstart\n",
       "290        22  european storm-petrel\n",
       "295        12        northern fulmar"
      ]
     },
     "execution_count": 7,
     "metadata": {},
     "output_type": "execute_result"
    }
   ],
   "source": [
    "# Stuff that's in the conservation list that's not in the atlas\n",
    "merged_df = pd.merge(conservation_status, species_lookup, on=['speccode', 'english_name'], how='outer', indicator=True)\n",
    "\n",
    "values_only_in_df1 = merged_df.loc[merged_df['_merge'] == 'left_only', ['speccode', 'english_name']]\n",
    "values_only_in_df1"
   ]
  },
  {
   "cell_type": "code",
   "execution_count": 12,
   "metadata": {},
   "outputs": [
    {
     "data": {
      "text/html": [
       "<div>\n",
       "<style scoped>\n",
       "    .dataframe tbody tr th:only-of-type {\n",
       "        vertical-align: middle;\n",
       "    }\n",
       "\n",
       "    .dataframe tbody tr th {\n",
       "        vertical-align: top;\n",
       "    }\n",
       "\n",
       "    .dataframe thead th {\n",
       "        text-align: right;\n",
       "    }\n",
       "</style>\n",
       "<table border=\"1\" class=\"dataframe\">\n",
       "  <thead>\n",
       "    <tr style=\"text-align: right;\">\n",
       "      <th></th>\n",
       "      <th>speccode</th>\n",
       "      <th>english_name</th>\n",
       "      <th>scientific_name</th>\n",
       "      <th>taxonomic_rank</th>\n",
       "    </tr>\n",
       "  </thead>\n",
       "  <tbody>\n",
       "    <tr>\n",
       "      <th>0</th>\n",
       "      <td>1</td>\n",
       "      <td>red-throated diver</td>\n",
       "      <td>gavia stellata</td>\n",
       "      <td>species</td>\n",
       "    </tr>\n",
       "    <tr>\n",
       "      <th>1</th>\n",
       "      <td>2</td>\n",
       "      <td>black-throated diver</td>\n",
       "      <td>gavia arctica</td>\n",
       "      <td>species</td>\n",
       "    </tr>\n",
       "    <tr>\n",
       "      <th>2</th>\n",
       "      <td>3</td>\n",
       "      <td>great northern diver</td>\n",
       "      <td>gavia immer</td>\n",
       "      <td>species</td>\n",
       "    </tr>\n",
       "    <tr>\n",
       "      <th>3</th>\n",
       "      <td>4</td>\n",
       "      <td>white-billed diver</td>\n",
       "      <td>gavia adamsii</td>\n",
       "      <td>species</td>\n",
       "    </tr>\n",
       "    <tr>\n",
       "      <th>4</th>\n",
       "      <td>5</td>\n",
       "      <td>pied-billed grebe</td>\n",
       "      <td>podilymbus podiceps</td>\n",
       "      <td>species</td>\n",
       "    </tr>\n",
       "    <tr>\n",
       "      <th>...</th>\n",
       "      <td>...</td>\n",
       "      <td>...</td>\n",
       "      <td>...</td>\n",
       "      <td>...</td>\n",
       "    </tr>\n",
       "    <tr>\n",
       "      <th>459</th>\n",
       "      <td>1582</td>\n",
       "      <td>grey parrot</td>\n",
       "      <td>psittacus erithacus</td>\n",
       "      <td>species</td>\n",
       "    </tr>\n",
       "    <tr>\n",
       "      <th>461</th>\n",
       "      <td>1584</td>\n",
       "      <td>white-cheeked turaco</td>\n",
       "      <td>tauraco leucotis</td>\n",
       "      <td>species</td>\n",
       "    </tr>\n",
       "    <tr>\n",
       "      <th>462</th>\n",
       "      <td>1586</td>\n",
       "      <td>violet turaco</td>\n",
       "      <td>musophaga violacea</td>\n",
       "      <td>species</td>\n",
       "    </tr>\n",
       "    <tr>\n",
       "      <th>463</th>\n",
       "      <td>1603</td>\n",
       "      <td>house crow</td>\n",
       "      <td>corvus splendens</td>\n",
       "      <td>species</td>\n",
       "    </tr>\n",
       "    <tr>\n",
       "      <th>464</th>\n",
       "      <td>1663</td>\n",
       "      <td>blue-crowned parakeet</td>\n",
       "      <td>thectocercus acuticaudatus</td>\n",
       "      <td>species</td>\n",
       "    </tr>\n",
       "  </tbody>\n",
       "</table>\n",
       "<p>459 rows × 4 columns</p>\n",
       "</div>"
      ],
      "text/plain": [
       "     speccode           english_name             scientific_name  \\\n",
       "0           1     red-throated diver              gavia stellata   \n",
       "1           2   black-throated diver               gavia arctica   \n",
       "2           3   great northern diver                 gavia immer   \n",
       "3           4     white-billed diver               gavia adamsii   \n",
       "4           5      pied-billed grebe         podilymbus podiceps   \n",
       "..        ...                    ...                         ...   \n",
       "459      1582            grey parrot         psittacus erithacus   \n",
       "461      1584   white-cheeked turaco            tauraco leucotis   \n",
       "462      1586          violet turaco          musophaga violacea   \n",
       "463      1603             house crow            corvus splendens   \n",
       "464      1663  blue-crowned parakeet  thectocercus acuticaudatus   \n",
       "\n",
       "    taxonomic_rank  \n",
       "0          species  \n",
       "1          species  \n",
       "2          species  \n",
       "3          species  \n",
       "4          species  \n",
       "..             ...  \n",
       "459        species  \n",
       "461        species  \n",
       "462        species  \n",
       "463        species  \n",
       "464        species  \n",
       "\n",
       "[459 rows x 4 columns]"
      ]
     },
     "execution_count": 12,
     "metadata": {},
     "output_type": "execute_result"
    }
   ],
   "source": [
    "# Remove species aggregate (removes 6 entries)\n",
    "species_lookup[species_lookup[\"taxonomic_rank\"] != \"species aggregate\"]"
   ]
  },
  {
   "cell_type": "code",
   "execution_count": null,
   "metadata": {},
   "outputs": [],
   "source": []
  }
 ],
 "metadata": {
  "kernelspec": {
   "display_name": ".venv",
   "language": "python",
   "name": "python3"
  },
  "language_info": {
   "codemirror_mode": {
    "name": "ipython",
    "version": 3
   },
   "file_extension": ".py",
   "mimetype": "text/x-python",
   "name": "python",
   "nbconvert_exporter": "python",
   "pygments_lexer": "ipython3",
   "version": "3.10.12"
  }
 },
 "nbformat": 4,
 "nbformat_minor": 2
}
